{
 "cells": [
  {
   "cell_type": "markdown",
   "metadata": {},
   "source": [
    "# Import Tensorflow and other libraries"
   ]
  },
  {
   "cell_type": "code",
   "execution_count": 1,
   "metadata": {
    "ExecuteTime": {
     "end_time": "2019-11-11T08:02:44.385050Z",
     "start_time": "2019-11-11T08:02:44.379875Z"
    }
   },
   "outputs": [],
   "source": [
    "from __future__ import absolute_import, division, print_function, unicode_literals"
   ]
  },
  {
   "cell_type": "code",
   "execution_count": 2,
   "metadata": {
    "ExecuteTime": {
     "end_time": "2019-11-11T08:02:45.374108Z",
     "start_time": "2019-11-11T08:02:44.386222Z"
    }
   },
   "outputs": [],
   "source": [
    "import tensorflow as tf"
   ]
  },
  {
   "cell_type": "code",
   "execution_count": 3,
   "metadata": {
    "ExecuteTime": {
     "end_time": "2019-11-11T08:02:45.382254Z",
     "start_time": "2019-11-11T08:02:45.375789Z"
    }
   },
   "outputs": [
    {
     "data": {
      "text/plain": [
       "'2.1.0-dev20191109'"
      ]
     },
     "execution_count": 3,
     "metadata": {},
     "output_type": "execute_result"
    }
   ],
   "source": [
    "tf.__version__"
   ]
  },
  {
   "cell_type": "code",
   "execution_count": 4,
   "metadata": {
    "ExecuteTime": {
     "end_time": "2019-11-11T08:02:45.479454Z",
     "start_time": "2019-11-11T08:02:45.383326Z"
    }
   },
   "outputs": [],
   "source": [
    "# # 用于生成 GIF 图片\n",
    "# !pip install -q imageio"
   ]
  },
  {
   "cell_type": "code",
   "execution_count": 5,
   "metadata": {
    "ExecuteTime": {
     "end_time": "2019-11-11T08:02:45.760499Z",
     "start_time": "2019-11-11T08:02:45.483843Z"
    }
   },
   "outputs": [],
   "source": [
    "import glob\n",
    "import imageio\n",
    "import matplotlib.pyplot as plt\n",
    "import numpy as np\n",
    "import os\n",
    "import PIL\n",
    "from tensorflow.keras import layers\n",
    "import time\n",
    "\n",
    "from IPython import display"
   ]
  },
  {
   "cell_type": "markdown",
   "metadata": {},
   "source": [
    "# 加载和准备数据集 "
   ]
  },
  {
   "cell_type": "code",
   "execution_count": 6,
   "metadata": {
    "ExecuteTime": {
     "end_time": "2019-11-11T08:02:45.957062Z",
     "start_time": "2019-11-11T08:02:45.761399Z"
    }
   },
   "outputs": [],
   "source": [
    "(train_images, train_labels), (_, _) = tf.keras.datasets.mnist.load_data()"
   ]
  },
  {
   "cell_type": "code",
   "execution_count": 7,
   "metadata": {
    "ExecuteTime": {
     "end_time": "2019-11-11T08:02:46.067260Z",
     "start_time": "2019-11-11T08:02:45.958075Z"
    }
   },
   "outputs": [],
   "source": [
    "train_images = train_images.reshape(train_images.shape[0], 28, 28, 1).astype('float')\n",
    "train_images = (train_images - 127.5) / 127.5 # 将图片标准化到[-1, 1]区间内"
   ]
  },
  {
   "cell_type": "code",
   "execution_count": 8,
   "metadata": {
    "ExecuteTime": {
     "end_time": "2019-11-11T08:02:46.070726Z",
     "start_time": "2019-11-11T08:02:46.068916Z"
    }
   },
   "outputs": [],
   "source": [
    "BUFFER_SIZE = 60000\n",
    "BATCH_SIZE = 256"
   ]
  },
  {
   "cell_type": "code",
   "execution_count": 9,
   "metadata": {
    "ExecuteTime": {
     "end_time": "2019-11-11T08:02:47.065161Z",
     "start_time": "2019-11-11T08:02:46.071820Z"
    }
   },
   "outputs": [],
   "source": [
    "train_dataset = tf.data.Dataset.from_tensor_slices(train_images).shuffle(BUFFER_SIZE).batch(BATCH_SIZE)"
   ]
  },
  {
   "cell_type": "markdown",
   "metadata": {},
   "source": [
    "# 创建模型 "
   ]
  },
  {
   "cell_type": "code",
   "execution_count": 10,
   "metadata": {
    "ExecuteTime": {
     "end_time": "2019-11-11T08:02:47.071901Z",
     "start_time": "2019-11-11T08:02:47.066169Z"
    }
   },
   "outputs": [],
   "source": [
    "def make_generator_model():\n",
    "    model = tf.keras.Sequential()\n",
    "    model.add(layers.Dense(7*7*256, use_bias=False, input_shape=(100,)))\n",
    "    model.add(layers.BatchNormalization())\n",
    "    model.add(layers.LeakyReLU())\n",
    "\n",
    "    model.add(layers.Reshape((7, 7, 256)))\n",
    "    assert model.output_shape == (None, 7, 7, 256) # 注意：batch size 没有限制\n",
    "\n",
    "    model.add(layers.Conv2DTranspose(128, (5, 5), strides=(1, 1), padding='same', use_bias=False))\n",
    "    assert model.output_shape == (None, 7, 7, 128)\n",
    "    model.add(layers.BatchNormalization())\n",
    "    model.add(layers.LeakyReLU())\n",
    "\n",
    "    model.add(layers.Conv2DTranspose(64, (5, 5), strides=(2, 2), padding='same', use_bias=False))\n",
    "    assert model.output_shape == (None, 14, 14, 64)\n",
    "    model.add(layers.BatchNormalization())\n",
    "    model.add(layers.LeakyReLU())\n",
    "\n",
    "    model.add(layers.Conv2DTranspose(1, (5, 5), strides=(2, 2), padding='same', use_bias=False, activation='tanh'))\n",
    "    assert model.output_shape == (None, 28, 28, 1)\n",
    "\n",
    "    return model"
   ]
  },
  {
   "cell_type": "code",
   "execution_count": 11,
   "metadata": {
    "ExecuteTime": {
     "end_time": "2019-11-11T08:02:47.337699Z",
     "start_time": "2019-11-11T08:02:47.072849Z"
    }
   },
   "outputs": [
    {
     "name": "stdout",
     "output_type": "stream",
     "text": [
      "tf.Tensor(\n",
      "[[[[-2.64264923e-03]\n",
      "   [ 1.29389786e-03]\n",
      "   [-3.24186985e-03]\n",
      "   [-2.14251713e-03]\n",
      "   [-8.55765771e-04]\n",
      "   [-5.77983074e-03]\n",
      "   [-1.10400561e-02]\n",
      "   [ 2.04907241e-03]\n",
      "   [ 7.16147432e-03]\n",
      "   [-6.55235304e-03]\n",
      "   [ 4.92025772e-03]\n",
      "   [-3.48467263e-03]\n",
      "   [ 5.65681793e-03]\n",
      "   [-1.80444028e-02]\n",
      "   [-9.55817010e-03]\n",
      "   [-1.12478603e-02]\n",
      "   [-2.91372620e-04]\n",
      "   [-6.01958670e-03]\n",
      "   [-8.22317693e-03]\n",
      "   [-4.76076879e-04]\n",
      "   [ 9.82867181e-03]\n",
      "   [-9.92061943e-03]\n",
      "   [-7.07862526e-03]\n",
      "   [ 3.55043449e-03]\n",
      "   [ 5.52012818e-03]\n",
      "   [-5.17550297e-03]\n",
      "   [ 6.63660187e-03]\n",
      "   [-1.69639953e-03]]\n",
      "\n",
      "  [[-7.92994048e-04]\n",
      "   [-7.75888190e-03]\n",
      "   [ 5.23280771e-03]\n",
      "   [ 2.86620553e-03]\n",
      "   [ 8.75270739e-03]\n",
      "   [-1.28396824e-02]\n",
      "   [ 4.68951790e-03]\n",
      "   [-5.70321828e-03]\n",
      "   [-1.67551506e-02]\n",
      "   [-4.13780706e-03]\n",
      "   [-1.93556603e-02]\n",
      "   [-2.26888917e-02]\n",
      "   [-1.01170167e-02]\n",
      "   [-2.68653166e-02]\n",
      "   [ 1.81788448e-02]\n",
      "   [-1.86203253e-02]\n",
      "   [-9.54455754e-04]\n",
      "   [-1.60255637e-02]\n",
      "   [ 5.14031667e-03]\n",
      "   [-1.21924467e-02]\n",
      "   [-1.13218173e-03]\n",
      "   [-1.39838429e-02]\n",
      "   [ 1.10575706e-02]\n",
      "   [-1.94593985e-02]\n",
      "   [-5.35888691e-03]\n",
      "   [-1.57326087e-02]\n",
      "   [-3.85269267e-03]\n",
      "   [-3.89133464e-03]]\n",
      "\n",
      "  [[ 5.39752468e-03]\n",
      "   [ 1.06966926e-03]\n",
      "   [ 2.58129113e-03]\n",
      "   [-1.70609150e-02]\n",
      "   [-1.14968829e-02]\n",
      "   [-1.03966156e-02]\n",
      "   [ 1.33255571e-02]\n",
      "   [-1.34055945e-03]\n",
      "   [-6.43271115e-03]\n",
      "   [ 3.71074677e-03]\n",
      "   [ 1.18064582e-02]\n",
      "   [-2.21858136e-02]\n",
      "   [-8.31887685e-03]\n",
      "   [-1.76856238e-02]\n",
      "   [-6.19766815e-03]\n",
      "   [ 1.60170924e-02]\n",
      "   [ 4.97502089e-03]\n",
      "   [ 1.13730310e-02]\n",
      "   [ 8.16533715e-03]\n",
      "   [-2.12393142e-02]\n",
      "   [-6.40578894e-03]\n",
      "   [-6.71427324e-03]\n",
      "   [-1.88128911e-02]\n",
      "   [-1.06443120e-02]\n",
      "   [-1.52212207e-03]\n",
      "   [ 2.30268738e-03]\n",
      "   [ 5.94532024e-03]\n",
      "   [ 7.78397638e-03]]\n",
      "\n",
      "  [[ 2.38993787e-03]\n",
      "   [-6.76997006e-04]\n",
      "   [-2.07316317e-02]\n",
      "   [ 5.03518968e-04]\n",
      "   [-2.39104480e-02]\n",
      "   [-1.56783499e-02]\n",
      "   [-4.50720079e-03]\n",
      "   [-1.60425827e-02]\n",
      "   [-6.94053853e-03]\n",
      "   [-1.55402096e-02]\n",
      "   [ 1.65990402e-03]\n",
      "   [-3.35619077e-02]\n",
      "   [-1.23556405e-02]\n",
      "   [ 1.01622501e-02]\n",
      "   [-2.52640061e-03]\n",
      "   [-2.48394087e-02]\n",
      "   [-1.59597932e-03]\n",
      "   [-2.01835539e-02]\n",
      "   [ 7.62822106e-03]\n",
      "   [-1.37510486e-02]\n",
      "   [-2.76228096e-02]\n",
      "   [ 1.41404010e-03]\n",
      "   [-1.73262171e-02]\n",
      "   [-1.55226123e-02]\n",
      "   [-1.91210874e-03]\n",
      "   [-1.50809670e-02]\n",
      "   [-4.09978535e-03]\n",
      "   [-5.35051525e-03]]\n",
      "\n",
      "  [[-1.05487753e-03]\n",
      "   [-8.76222178e-03]\n",
      "   [-3.95749172e-04]\n",
      "   [-2.93488195e-03]\n",
      "   [-6.43593399e-03]\n",
      "   [ 1.66027201e-03]\n",
      "   [-1.61271337e-02]\n",
      "   [-1.94454324e-02]\n",
      "   [-1.12683920e-03]\n",
      "   [ 1.71644874e-02]\n",
      "   [ 7.89745059e-03]\n",
      "   [-5.91298798e-03]\n",
      "   [-9.79954377e-03]\n",
      "   [-2.05874257e-02]\n",
      "   [-8.00403021e-03]\n",
      "   [ 2.06560697e-02]\n",
      "   [ 1.45630725e-02]\n",
      "   [-6.17809477e-04]\n",
      "   [ 7.18303956e-03]\n",
      "   [-6.71445765e-03]\n",
      "   [-8.78570310e-04]\n",
      "   [ 6.42989180e-04]\n",
      "   [-1.62403993e-02]\n",
      "   [-2.29332857e-02]\n",
      "   [-1.27479034e-02]\n",
      "   [-2.90759206e-02]\n",
      "   [ 1.31469574e-02]\n",
      "   [ 3.72907193e-03]]\n",
      "\n",
      "  [[-6.56653242e-03]\n",
      "   [-4.68262151e-04]\n",
      "   [ 1.83363110e-02]\n",
      "   [-4.73243892e-02]\n",
      "   [ 1.79075589e-03]\n",
      "   [ 8.43324792e-03]\n",
      "   [ 1.23843597e-02]\n",
      "   [ 1.72360858e-03]\n",
      "   [-1.81289688e-02]\n",
      "   [-3.46920565e-02]\n",
      "   [ 2.59500393e-03]\n",
      "   [-1.39167719e-02]\n",
      "   [-1.47945900e-02]\n",
      "   [-2.10022908e-02]\n",
      "   [-1.62204949e-03]\n",
      "   [-3.64615098e-02]\n",
      "   [ 2.45568585e-02]\n",
      "   [-3.48741412e-02]\n",
      "   [ 7.08888145e-03]\n",
      "   [-1.58951692e-02]\n",
      "   [ 3.52386781e-03]\n",
      "   [ 1.75412092e-02]\n",
      "   [ 3.40430974e-03]\n",
      "   [-4.37348895e-03]\n",
      "   [-1.32029690e-03]\n",
      "   [-3.09163556e-02]\n",
      "   [-2.19399319e-03]\n",
      "   [-5.01219090e-03]]\n",
      "\n",
      "  [[ 7.03427522e-03]\n",
      "   [-1.15949335e-02]\n",
      "   [ 7.74614862e-04]\n",
      "   [ 2.22368850e-04]\n",
      "   [-5.66374802e-04]\n",
      "   [ 2.46945322e-02]\n",
      "   [ 4.92998725e-03]\n",
      "   [-3.07732616e-02]\n",
      "   [ 1.20775402e-02]\n",
      "   [-1.22562172e-02]\n",
      "   [-8.42454378e-03]\n",
      "   [-9.17716883e-03]\n",
      "   [-4.17266879e-03]\n",
      "   [-6.83410279e-03]\n",
      "   [-2.00055400e-03]\n",
      "   [ 2.75741927e-02]\n",
      "   [-7.97480112e-04]\n",
      "   [ 4.02672868e-03]\n",
      "   [ 9.87463258e-03]\n",
      "   [ 1.45604862e-02]\n",
      "   [-1.78405866e-02]\n",
      "   [-2.01368099e-03]\n",
      "   [ 1.93586182e-02]\n",
      "   [-2.81225308e-03]\n",
      "   [-3.63195571e-03]\n",
      "   [ 9.27356817e-03]\n",
      "   [-1.33746890e-02]\n",
      "   [ 1.44112660e-02]]\n",
      "\n",
      "  [[-1.82406500e-03]\n",
      "   [-1.35605317e-02]\n",
      "   [-3.68032255e-03]\n",
      "   [ 1.28502510e-02]\n",
      "   [-7.81280734e-03]\n",
      "   [ 5.79772424e-03]\n",
      "   [-2.27658618e-02]\n",
      "   [-8.21200293e-03]\n",
      "   [-4.43601282e-03]\n",
      "   [ 1.16825048e-02]\n",
      "   [ 1.65532269e-02]\n",
      "   [ 2.77040264e-04]\n",
      "   [-3.38255391e-02]\n",
      "   [ 4.88770660e-03]\n",
      "   [ 5.03227906e-03]\n",
      "   [-4.00114944e-03]\n",
      "   [-1.76390689e-02]\n",
      "   [ 7.09835265e-04]\n",
      "   [-2.52706390e-02]\n",
      "   [-5.59865450e-03]\n",
      "   [-6.09042821e-03]\n",
      "   [-5.85286692e-03]\n",
      "   [-7.97859859e-03]\n",
      "   [ 1.39098917e-03]\n",
      "   [-2.98399739e-02]\n",
      "   [-5.92563115e-03]\n",
      "   [-8.36618617e-03]\n",
      "   [-4.14088694e-03]]\n",
      "\n",
      "  [[-1.02186808e-03]\n",
      "   [ 5.75131795e-04]\n",
      "   [ 1.22156823e-02]\n",
      "   [-1.28506636e-02]\n",
      "   [-1.96806435e-03]\n",
      "   [-9.66895558e-03]\n",
      "   [-2.23214738e-02]\n",
      "   [-4.51626861e-03]\n",
      "   [ 8.75747111e-03]\n",
      "   [-2.42829118e-02]\n",
      "   [-1.18820174e-02]\n",
      "   [-1.23965936e-02]\n",
      "   [-1.88951427e-03]\n",
      "   [ 8.29385361e-04]\n",
      "   [-1.32935019e-02]\n",
      "   [ 3.44824686e-04]\n",
      "   [ 9.63246357e-03]\n",
      "   [-4.60649654e-03]\n",
      "   [-8.77884496e-03]\n",
      "   [-1.81204788e-02]\n",
      "   [ 1.99752953e-03]\n",
      "   [-6.13462040e-03]\n",
      "   [-6.22966420e-03]\n",
      "   [-1.16049955e-02]\n",
      "   [-1.04124518e-03]\n",
      "   [ 6.38232741e-04]\n",
      "   [ 1.01646679e-02]\n",
      "   [-5.05488692e-03]]\n",
      "\n",
      "  [[ 5.15180640e-03]\n",
      "   [-1.53202936e-02]\n",
      "   [ 2.31699762e-03]\n",
      "   [-1.17465295e-02]\n",
      "   [-1.97401363e-02]\n",
      "   [-4.90642190e-02]\n",
      "   [ 8.88020173e-03]\n",
      "   [-1.47457393e-02]\n",
      "   [-4.23769141e-03]\n",
      "   [-5.70344552e-02]\n",
      "   [ 2.23821569e-02]\n",
      "   [-3.41371298e-02]\n",
      "   [-3.57732512e-02]\n",
      "   [-2.19914448e-02]\n",
      "   [-4.03140765e-03]\n",
      "   [ 1.31192768e-03]\n",
      "   [-9.05997399e-03]\n",
      "   [-3.62618081e-02]\n",
      "   [ 8.76197300e-04]\n",
      "   [-3.40947020e-03]\n",
      "   [ 2.32321601e-02]\n",
      "   [-3.34075396e-03]\n",
      "   [ 1.34351077e-02]\n",
      "   [-2.73057231e-04]\n",
      "   [-4.19141725e-03]\n",
      "   [-2.19250824e-02]\n",
      "   [-8.64908006e-03]\n",
      "   [-4.99368063e-04]]\n",
      "\n",
      "  [[ 9.72257741e-03]\n",
      "   [ 6.45015761e-03]\n",
      "   [ 1.29446806e-02]\n",
      "   [-1.47913583e-02]\n",
      "   [ 1.57971215e-02]\n",
      "   [-1.87137648e-02]\n",
      "   [ 1.86461471e-02]\n",
      "   [-1.06098279e-02]\n",
      "   [ 6.45701401e-03]\n",
      "   [ 7.51677621e-03]\n",
      "   [ 8.46512616e-03]\n",
      "   [-7.56373955e-03]\n",
      "   [ 9.63973999e-03]\n",
      "   [ 8.03188141e-03]\n",
      "   [-1.18630251e-03]\n",
      "   [-4.14293120e-03]\n",
      "   [ 1.89555846e-02]\n",
      "   [ 8.79604183e-03]\n",
      "   [ 5.99185843e-03]\n",
      "   [-6.24926388e-03]\n",
      "   [-6.47782441e-03]\n",
      "   [-2.06792783e-02]\n",
      "   [ 1.39319068e-02]\n",
      "   [-1.34237937e-03]\n",
      "   [-6.02365565e-03]\n",
      "   [ 2.13902183e-02]\n",
      "   [-3.96299176e-03]\n",
      "   [-1.26022100e-02]]\n",
      "\n",
      "  [[-6.31398242e-03]\n",
      "   [ 3.55455966e-04]\n",
      "   [ 4.19957191e-03]\n",
      "   [-8.59007239e-03]\n",
      "   [-1.62588351e-03]\n",
      "   [-1.72256827e-02]\n",
      "   [-9.27544106e-03]\n",
      "   [ 7.89355393e-03]\n",
      "   [-3.87478620e-02]\n",
      "   [-3.33975926e-02]\n",
      "   [-1.41442502e-02]\n",
      "   [ 2.21679639e-02]\n",
      "   [-8.98383744e-03]\n",
      "   [-1.71616804e-02]\n",
      "   [-1.40799480e-02]\n",
      "   [-7.99408369e-03]\n",
      "   [-1.91711806e-04]\n",
      "   [-2.61153989e-02]\n",
      "   [-1.21269980e-02]\n",
      "   [ 2.65117399e-02]\n",
      "   [-2.67443582e-02]\n",
      "   [-1.10280719e-02]\n",
      "   [-7.85922073e-03]\n",
      "   [ 4.41512605e-03]\n",
      "   [-6.49271021e-03]\n",
      "   [-2.49925461e-02]\n",
      "   [-1.56539977e-02]\n",
      "   [-4.37428104e-03]]\n",
      "\n",
      "  [[ 6.33824850e-03]\n",
      "   [ 1.04995035e-02]\n",
      "   [ 1.46826508e-03]\n",
      "   [-3.59248777e-04]\n",
      "   [-4.96260496e-03]\n",
      "   [ 4.06244583e-03]\n",
      "   [-3.39260267e-04]\n",
      "   [-1.88801363e-02]\n",
      "   [-1.13776373e-02]\n",
      "   [ 9.10801720e-03]\n",
      "   [-1.74422935e-03]\n",
      "   [-3.12532932e-02]\n",
      "   [-1.25969469e-03]\n",
      "   [ 3.77771561e-03]\n",
      "   [ 6.98339101e-03]\n",
      "   [-3.06885801e-02]\n",
      "   [ 2.47704261e-03]\n",
      "   [ 2.90546537e-04]\n",
      "   [-2.11193375e-02]\n",
      "   [-2.55090855e-02]\n",
      "   [-9.83228348e-03]\n",
      "   [-2.66105607e-02]\n",
      "   [-1.99344126e-03]\n",
      "   [ 1.28536494e-02]\n",
      "   [ 5.02967089e-03]\n",
      "   [-1.16932942e-02]\n",
      "   [ 1.16546657e-02]\n",
      "   [ 1.11868037e-02]]\n",
      "\n",
      "  [[-2.27630953e-03]\n",
      "   [-1.62924286e-02]\n",
      "   [ 1.02220559e-02]\n",
      "   [-4.95273271e-04]\n",
      "   [ 8.35401099e-03]\n",
      "   [-1.91359520e-02]\n",
      "   [ 1.82130896e-02]\n",
      "   [-1.92395151e-02]\n",
      "   [-2.64641512e-02]\n",
      "   [-3.51819322e-02]\n",
      "   [-1.97865199e-02]\n",
      "   [ 3.47973667e-02]\n",
      "   [ 4.91295103e-03]\n",
      "   [-3.00451331e-02]\n",
      "   [ 1.93834808e-02]\n",
      "   [-2.70921215e-02]\n",
      "   [-3.86361917e-03]\n",
      "   [ 1.79398619e-02]\n",
      "   [-1.18265757e-02]\n",
      "   [-2.26735622e-02]\n",
      "   [ 2.50482988e-02]\n",
      "   [-5.83491325e-02]\n",
      "   [ 3.92866731e-02]\n",
      "   [-1.01473266e-02]\n",
      "   [-2.83058714e-02]\n",
      "   [-1.10712079e-02]\n",
      "   [ 3.73845617e-03]\n",
      "   [-4.28512180e-03]]\n",
      "\n",
      "  [[ 2.89922417e-03]\n",
      "   [ 8.85918271e-03]\n",
      "   [ 1.37896882e-02]\n",
      "   [-9.08497535e-03]\n",
      "   [ 6.89148158e-03]\n",
      "   [ 4.28380408e-05]\n",
      "   [ 4.86386148e-03]\n",
      "   [ 6.80552144e-03]\n",
      "   [-2.43495917e-03]\n",
      "   [-5.92488423e-03]\n",
      "   [ 3.23109813e-02]\n",
      "   [-1.22946245e-03]\n",
      "   [ 9.52979829e-03]\n",
      "   [-1.48465866e-02]\n",
      "   [ 2.50693318e-03]\n",
      "   [ 4.59550414e-04]\n",
      "   [ 6.11864310e-03]\n",
      "   [-1.44248735e-02]\n",
      "   [-7.42543256e-03]\n",
      "   [-1.60404928e-02]\n",
      "   [-4.28110687e-03]\n",
      "   [ 2.34519858e-02]\n",
      "   [ 3.13084498e-02]\n",
      "   [-1.86285861e-02]\n",
      "   [ 4.33195801e-03]\n",
      "   [ 2.09625345e-02]\n",
      "   [ 1.85053349e-02]\n",
      "   [ 5.22326212e-03]]\n",
      "\n",
      "  [[-2.11769389e-03]\n",
      "   [-7.27402139e-03]\n",
      "   [ 1.08009586e-02]\n",
      "   [ 1.30201029e-02]\n",
      "   [-1.76938325e-02]\n",
      "   [-9.57693066e-03]\n",
      "   [-1.12504670e-02]\n",
      "   [-2.87600290e-02]\n",
      "   [ 1.74789932e-02]\n",
      "   [-1.28242299e-02]\n",
      "   [ 8.63381755e-03]\n",
      "   [-2.14766082e-03]\n",
      "   [-1.07415635e-02]\n",
      "   [ 8.16109497e-03]\n",
      "   [ 4.72171145e-04]\n",
      "   [-3.93337058e-03]\n",
      "   [-1.82826014e-03]\n",
      "   [-1.81229634e-03]\n",
      "   [-2.04896238e-02]\n",
      "   [-3.05318292e-02]\n",
      "   [-3.01190447e-02]\n",
      "   [-1.30910575e-02]\n",
      "   [-3.64025347e-02]\n",
      "   [-2.83416332e-04]\n",
      "   [-3.03282607e-02]\n",
      "   [-1.84214786e-02]\n",
      "   [-2.79120170e-03]\n",
      "   [-9.12226178e-03]]\n",
      "\n",
      "  [[-9.82679799e-03]\n",
      "   [ 1.49510074e-02]\n",
      "   [ 1.73448715e-02]\n",
      "   [ 1.83072351e-02]\n",
      "   [-2.19411729e-03]\n",
      "   [-8.31676461e-03]\n",
      "   [-5.53454179e-03]\n",
      "   [-4.20398545e-03]\n",
      "   [-2.23473534e-02]\n",
      "   [ 9.66298766e-03]\n",
      "   [-2.69084913e-03]\n",
      "   [-2.11816584e-03]\n",
      "   [-9.60149243e-03]\n",
      "   [-6.57052454e-03]\n",
      "   [ 1.34853153e-02]\n",
      "   [-2.03637481e-02]\n",
      "   [ 1.98661387e-02]\n",
      "   [-2.05632169e-02]\n",
      "   [-5.11230109e-03]\n",
      "   [-3.18842474e-03]\n",
      "   [ 8.02547496e-04]\n",
      "   [-2.01922394e-02]\n",
      "   [-7.44043011e-03]\n",
      "   [-1.29819876e-02]\n",
      "   [ 9.22930241e-03]\n",
      "   [-2.77081113e-02]\n",
      "   [ 1.50532497e-03]\n",
      "   [-1.88347101e-02]]\n",
      "\n",
      "  [[-3.80910560e-03]\n",
      "   [-2.43042968e-02]\n",
      "   [ 1.63172167e-02]\n",
      "   [-8.12218245e-03]\n",
      "   [-3.77795212e-02]\n",
      "   [-2.54722089e-02]\n",
      "   [ 1.34229036e-02]\n",
      "   [-2.92545389e-02]\n",
      "   [-2.11671032e-02]\n",
      "   [ 1.23858685e-03]\n",
      "   [ 6.96995575e-03]\n",
      "   [ 2.39894520e-02]\n",
      "   [-1.36791579e-02]\n",
      "   [-1.45789552e-02]\n",
      "   [ 2.93527701e-04]\n",
      "   [-6.82347361e-03]\n",
      "   [-1.32095953e-02]\n",
      "   [-1.51089439e-02]\n",
      "   [ 2.57996358e-02]\n",
      "   [-4.28454094e-02]\n",
      "   [-2.96902061e-02]\n",
      "   [ 1.21548381e-02]\n",
      "   [ 1.99602265e-02]\n",
      "   [-1.13333305e-02]\n",
      "   [-6.50829356e-03]\n",
      "   [-3.25192623e-02]\n",
      "   [-2.42926013e-02]\n",
      "   [-1.09386286e-02]]\n",
      "\n",
      "  [[ 2.07294594e-03]\n",
      "   [ 3.57825891e-03]\n",
      "   [ 1.66023485e-02]\n",
      "   [ 5.63942874e-03]\n",
      "   [ 1.86478123e-02]\n",
      "   [ 2.57963012e-03]\n",
      "   [ 2.71524582e-03]\n",
      "   [-1.09715471e-02]\n",
      "   [ 1.30850347e-02]\n",
      "   [-1.01138558e-02]\n",
      "   [ 1.22856451e-02]\n",
      "   [-3.60045640e-04]\n",
      "   [ 2.19279844e-02]\n",
      "   [ 1.98453646e-02]\n",
      "   [-1.50682153e-02]\n",
      "   [ 1.18151074e-02]\n",
      "   [ 5.29702008e-03]\n",
      "   [-1.64778461e-03]\n",
      "   [-1.13737059e-03]\n",
      "   [-2.19652038e-02]\n",
      "   [-5.58846677e-03]\n",
      "   [-2.88197742e-04]\n",
      "   [ 8.13227985e-03]\n",
      "   [-1.15748625e-02]\n",
      "   [ 4.18597041e-03]\n",
      "   [ 1.29839592e-02]\n",
      "   [ 1.12146242e-02]\n",
      "   [ 4.46082884e-03]]\n",
      "\n",
      "  [[ 1.09353224e-02]\n",
      "   [-4.00400429e-04]\n",
      "   [-1.16686039e-02]\n",
      "   [ 7.55174831e-03]\n",
      "   [-6.85793674e-03]\n",
      "   [ 1.36723369e-02]\n",
      "   [-1.32034272e-02]\n",
      "   [ 4.84677847e-04]\n",
      "   [-2.56398711e-02]\n",
      "   [ 1.33586954e-02]\n",
      "   [-7.41264923e-03]\n",
      "   [-5.42847533e-03]\n",
      "   [ 7.26634776e-03]\n",
      "   [-1.24764899e-02]\n",
      "   [-2.69129686e-02]\n",
      "   [ 7.72174215e-04]\n",
      "   [ 8.18612985e-03]\n",
      "   [-4.26937900e-02]\n",
      "   [-5.11691766e-03]\n",
      "   [-6.82712160e-03]\n",
      "   [-1.18585965e-02]\n",
      "   [ 1.63154863e-02]\n",
      "   [-2.38208380e-02]\n",
      "   [ 2.83245533e-03]\n",
      "   [-1.43918134e-02]\n",
      "   [-5.96130965e-03]\n",
      "   [-1.51838483e-02]\n",
      "   [-3.28394747e-03]]\n",
      "\n",
      "  [[ 2.97026592e-03]\n",
      "   [-7.27201579e-03]\n",
      "   [-2.86644069e-03]\n",
      "   [-1.88655835e-02]\n",
      "   [-1.07318182e-02]\n",
      "   [-2.29973276e-03]\n",
      "   [ 1.13270048e-03]\n",
      "   [ 7.50984019e-03]\n",
      "   [ 3.83553002e-03]\n",
      "   [ 1.48462655e-03]\n",
      "   [ 1.69284064e-02]\n",
      "   [-4.55260323e-03]\n",
      "   [-1.52141191e-02]\n",
      "   [-1.27216075e-02]\n",
      "   [-1.29204504e-02]\n",
      "   [-1.65314954e-02]\n",
      "   [-2.30609123e-02]\n",
      "   [-7.19023449e-03]\n",
      "   [ 1.82975251e-02]\n",
      "   [-1.13417981e-02]\n",
      "   [-2.56722793e-02]\n",
      "   [ 8.08372349e-03]\n",
      "   [-3.92125873e-03]\n",
      "   [-1.43896546e-02]\n",
      "   [ 3.68517218e-03]\n",
      "   [ 3.96202318e-03]\n",
      "   [ 9.89602879e-04]\n",
      "   [-1.91164576e-03]]\n",
      "\n",
      "  [[-2.24086433e-03]\n",
      "   [-2.16358565e-02]\n",
      "   [ 6.25351816e-03]\n",
      "   [ 1.23297367e-02]\n",
      "   [-1.01798382e-02]\n",
      "   [-1.54295089e-02]\n",
      "   [ 2.77537126e-02]\n",
      "   [-7.64621189e-03]\n",
      "   [ 1.00612892e-02]\n",
      "   [-4.18402590e-02]\n",
      "   [ 8.68161209e-03]\n",
      "   [-1.24099841e-02]\n",
      "   [-2.92154513e-02]\n",
      "   [-1.62521955e-02]\n",
      "   [ 7.88908824e-03]\n",
      "   [-1.68064535e-02]\n",
      "   [-1.11278368e-03]\n",
      "   [-2.41183881e-02]\n",
      "   [ 2.19360925e-02]\n",
      "   [-3.34309042e-02]\n",
      "   [-3.57492603e-02]\n",
      "   [-6.45816326e-02]\n",
      "   [ 1.45884352e-02]\n",
      "   [-2.10544071e-03]\n",
      "   [-2.15208903e-02]\n",
      "   [-1.80940535e-02]\n",
      "   [ 2.17934623e-02]\n",
      "   [ 1.58321566e-03]]\n",
      "\n",
      "  [[ 2.44364236e-03]\n",
      "   [-1.19214142e-02]\n",
      "   [ 1.25471782e-02]\n",
      "   [-6.18895050e-03]\n",
      "   [-2.40507768e-03]\n",
      "   [-1.29950149e-02]\n",
      "   [ 4.91665164e-03]\n",
      "   [ 1.06748510e-02]\n",
      "   [ 2.01717392e-02]\n",
      "   [-7.47646019e-03]\n",
      "   [ 6.82799052e-03]\n",
      "   [ 1.97128719e-03]\n",
      "   [-3.31879361e-03]\n",
      "   [ 4.01453208e-03]\n",
      "   [ 2.09591910e-02]\n",
      "   [-3.23336832e-02]\n",
      "   [-5.82441455e-03]\n",
      "   [-1.34131024e-02]\n",
      "   [ 2.41690092e-02]\n",
      "   [ 1.43510019e-02]\n",
      "   [ 3.60894296e-03]\n",
      "   [ 1.30555835e-02]\n",
      "   [ 8.09418876e-03]\n",
      "   [ 6.19647605e-03]\n",
      "   [ 5.25377830e-03]\n",
      "   [ 1.40098471e-03]\n",
      "   [ 1.41552966e-02]\n",
      "   [-1.91899557e-02]]\n",
      "\n",
      "  [[ 3.22959560e-04]\n",
      "   [ 1.92069134e-03]\n",
      "   [ 1.85409822e-02]\n",
      "   [ 1.86142866e-02]\n",
      "   [-7.11010816e-03]\n",
      "   [-1.68117750e-02]\n",
      "   [-2.20338143e-02]\n",
      "   [-5.81368525e-03]\n",
      "   [-3.21552008e-02]\n",
      "   [-1.80015434e-02]\n",
      "   [-8.46623909e-03]\n",
      "   [ 4.41372581e-03]\n",
      "   [ 1.28683925e-03]\n",
      "   [ 1.17089283e-02]\n",
      "   [-2.04343051e-02]\n",
      "   [-6.64875191e-03]\n",
      "   [-7.11729890e-03]\n",
      "   [-3.15974914e-02]\n",
      "   [ 2.59640790e-03]\n",
      "   [-6.78920653e-03]\n",
      "   [-3.99414934e-02]\n",
      "   [-5.30301500e-03]\n",
      "   [-2.33424343e-02]\n",
      "   [-3.08741201e-02]\n",
      "   [-3.32224332e-02]\n",
      "   [-1.13210306e-02]\n",
      "   [-9.29418392e-03]\n",
      "   [ 5.28947031e-03]]\n",
      "\n",
      "  [[-6.51218416e-03]\n",
      "   [ 1.51466085e-02]\n",
      "   [ 4.91014725e-05]\n",
      "   [-5.27222082e-03]\n",
      "   [-1.54851070e-02]\n",
      "   [ 5.90603054e-03]\n",
      "   [ 1.30624911e-02]\n",
      "   [-2.36201230e-02]\n",
      "   [-2.66510304e-02]\n",
      "   [ 1.71166949e-03]\n",
      "   [ 2.98849656e-03]\n",
      "   [-6.04875060e-03]\n",
      "   [ 3.06212436e-03]\n",
      "   [-2.66223401e-03]\n",
      "   [ 9.88404173e-03]\n",
      "   [ 7.25691766e-03]\n",
      "   [-1.72367990e-02]\n",
      "   [ 4.73417854e-03]\n",
      "   [ 1.64819378e-02]\n",
      "   [ 9.25377570e-03]\n",
      "   [ 5.07201208e-03]\n",
      "   [-1.48840100e-02]\n",
      "   [ 1.05862636e-02]\n",
      "   [-1.09911868e-02]\n",
      "   [-2.82441638e-02]\n",
      "   [-2.44262144e-02]\n",
      "   [ 1.08677298e-02]\n",
      "   [-1.59615150e-03]]\n",
      "\n",
      "  [[ 4.02932707e-03]\n",
      "   [-4.08079987e-03]\n",
      "   [ 1.46897335e-03]\n",
      "   [ 3.41456034e-03]\n",
      "   [-7.56218564e-03]\n",
      "   [-1.41682271e-02]\n",
      "   [ 4.16836590e-02]\n",
      "   [-2.27715950e-02]\n",
      "   [-2.94158664e-02]\n",
      "   [-1.11230407e-02]\n",
      "   [ 1.03977602e-02]\n",
      "   [-7.30555272e-03]\n",
      "   [ 2.33080960e-03]\n",
      "   [-1.98942069e-02]\n",
      "   [ 1.64751541e-02]\n",
      "   [ 2.08301027e-03]\n",
      "   [-6.50859019e-03]\n",
      "   [-2.53246091e-02]\n",
      "   [-2.59565990e-02]\n",
      "   [-1.61132570e-02]\n",
      "   [-2.58726571e-02]\n",
      "   [-2.55775116e-02]\n",
      "   [ 4.10117151e-04]\n",
      "   [-2.64694262e-02]\n",
      "   [ 8.80757626e-03]\n",
      "   [-4.67969552e-02]\n",
      "   [-1.05510596e-02]\n",
      "   [-1.53423473e-03]]\n",
      "\n",
      "  [[ 5.59203280e-03]\n",
      "   [-2.13501528e-02]\n",
      "   [ 4.83819470e-03]\n",
      "   [ 5.37513290e-03]\n",
      "   [ 6.40083989e-03]\n",
      "   [ 7.39587378e-03]\n",
      "   [ 1.97470225e-02]\n",
      "   [-2.52701864e-02]\n",
      "   [ 1.43947089e-02]\n",
      "   [-2.37988541e-03]\n",
      "   [ 7.75091769e-03]\n",
      "   [ 2.60771532e-02]\n",
      "   [-1.48755277e-03]\n",
      "   [-1.87794231e-02]\n",
      "   [ 2.10209861e-02]\n",
      "   [-3.40786809e-03]\n",
      "   [ 1.45355994e-02]\n",
      "   [ 1.50398593e-02]\n",
      "   [ 1.39195425e-02]\n",
      "   [-7.02401623e-03]\n",
      "   [ 4.52631107e-03]\n",
      "   [-1.05128437e-02]\n",
      "   [ 5.95459109e-03]\n",
      "   [-6.76892838e-03]\n",
      "   [-7.90227379e-04]\n",
      "   [-6.68816967e-03]\n",
      "   [ 8.78359284e-03]\n",
      "   [-4.52597579e-03]]\n",
      "\n",
      "  [[ 1.82845863e-03]\n",
      "   [ 1.32019669e-02]\n",
      "   [ 5.82948234e-03]\n",
      "   [ 9.67147294e-04]\n",
      "   [ 8.44846712e-04]\n",
      "   [ 1.85308214e-02]\n",
      "   [-1.46276476e-02]\n",
      "   [ 8.86329077e-03]\n",
      "   [-6.78876042e-03]\n",
      "   [-2.68063284e-02]\n",
      "   [-1.04882047e-02]\n",
      "   [-1.15858496e-03]\n",
      "   [-3.66666471e-03]\n",
      "   [-3.80938058e-03]\n",
      "   [ 1.41267627e-02]\n",
      "   [-9.18201823e-03]\n",
      "   [ 9.48521215e-03]\n",
      "   [-1.24126431e-02]\n",
      "   [ 9.98973195e-03]\n",
      "   [ 1.26233818e-02]\n",
      "   [-7.18590338e-03]\n",
      "   [-1.70544200e-02]\n",
      "   [-9.22107790e-03]\n",
      "   [-1.34365447e-02]\n",
      "   [-4.64940397e-03]\n",
      "   [ 1.02849053e-02]\n",
      "   [-6.70542940e-03]\n",
      "   [ 7.76337553e-03]]]], shape=(1, 28, 28, 1), dtype=float32)\n"
     ]
    }
   ],
   "source": [
    "generator = make_generator_model()\n",
    "\n",
    "noise = tf.random.normal([1, 100])\n",
    "generated_image = generator(noise, training=False)\n",
    "\n",
    "print(generated_image)"
   ]
  },
  {
   "cell_type": "code",
   "execution_count": 12,
   "metadata": {
    "ExecuteTime": {
     "end_time": "2019-11-11T08:02:47.459084Z",
     "start_time": "2019-11-11T08:02:47.338667Z"
    }
   },
   "outputs": [
    {
     "data": {
      "text/plain": [
       "<matplotlib.image.AxesImage at 0x7f2a3c02fc88>"
      ]
     },
     "execution_count": 12,
     "metadata": {},
     "output_type": "execute_result"
    },
    {
     "data": {
      "image/png": "[encoded data removed]",
      "text/plain": [
       "<Figure size 432x288 with 1 Axes>"
      ]
     },
     "metadata": {
      "needs_background": "light"
     },
     "output_type": "display_data"
    }
   ],
   "source": [
    "# # tensorflow v1 style\n",
    "# with tf.Session() as sess:\n",
    "#   sess.run(tf.global_variables_initializer())\n",
    "#   generated_image = sess.run(generated_image)\n",
    "# plt.imshow(generated_image[0, :, :, 0], cmap='gray')\n",
    "\n",
    "# tensorflow v2 style\n",
    "plt.imshow(generated_image[0, :, :, 0], cmap='gray')"
   ]
  },
  {
   "cell_type": "code",
   "execution_count": 13,
   "metadata": {
    "ExecuteTime": {
     "end_time": "2019-11-11T08:02:47.463881Z",
     "start_time": "2019-11-11T08:02:47.460152Z"
    }
   },
   "outputs": [],
   "source": [
    "def make_discriminator_model():\n",
    "    model = tf.keras.Sequential()\n",
    "    model.add(layers.Conv2D(64, (5, 5), strides=(2, 2), padding='same',\n",
    "                           input_shape=[28, 28, 1]))\n",
    "    \n",
    "    model.add(layers.LeakyReLU())\n",
    "    model.add(layers.Dropout(0.3))\n",
    "    \n",
    "    model.add(layers.Conv2D(128, (5, 5), strides=(2, 2), padding='same'))\n",
    "    model.add(layers.LeakyReLU())\n",
    "    model.add(layers.Dropout(0.3))\n",
    "    \n",
    "    model.add(layers.Flatten())\n",
    "    model.add(layers.Dense(1))\n",
    "    \n",
    "    return model"
   ]
  },
  {
   "cell_type": "code",
   "execution_count": 14,
   "metadata": {
    "ExecuteTime": {
     "end_time": "2019-11-11T08:02:47.626921Z",
     "start_time": "2019-11-11T08:02:47.464882Z"
    }
   },
   "outputs": [
    {
     "name": "stdout",
     "output_type": "stream",
     "text": [
      "tf.Tensor([[-0.00083993]], shape=(1, 1), dtype=float32)\n"
     ]
    }
   ],
   "source": [
    "discriminator = make_discriminator_model()\n",
    "decision = discriminator(generated_image)\n",
    "print(decision)"
   ]
  },
  {
   "cell_type": "markdown",
   "metadata": {},
   "source": [
    "# 定义损失函数和优化器"
   ]
  },
  {
   "cell_type": "code",
   "execution_count": 15,
   "metadata": {
    "ExecuteTime": {
     "end_time": "2019-11-11T08:02:47.675459Z",
     "start_time": "2019-11-11T08:02:47.628002Z"
    }
   },
   "outputs": [],
   "source": [
    "# 该方法返回计算交叉熵损失的辅助函数\n",
    "cross_entropy = tf.keras.losses.BinaryCrossentropy(from_logits=True)"
   ]
  },
  {
   "cell_type": "markdown",
   "metadata": {},
   "source": [
    "# 判别器损失 "
   ]
  },
  {
   "cell_type": "code",
   "execution_count": 16,
   "metadata": {
    "ExecuteTime": {
     "end_time": "2019-11-11T08:02:47.760559Z",
     "start_time": "2019-11-11T08:02:47.677041Z"
    }
   },
   "outputs": [],
   "source": [
    "# 该方法量化判别器从判断真伪图片的能力。它将判别器对真实图片的预测值与值全为 1 的\n",
    "# 数组进行对比，将判别器对伪造（生成的）图片的预测值与值全为 0 的数组进行对比。\n",
    "def discriminator_loss(real_output, fake_output):\n",
    "    real_loss = cross_entropy(tf.ones_like(real_output), real_output)\n",
    "    fake_loss = cross_entropy(tf.zeros_like(fake_output), fake_output)\n",
    "    total_loss = real_loss + fake_loss\n",
    "    return total_loss"
   ]
  },
  {
   "cell_type": "markdown",
   "metadata": {},
   "source": [
    "# 生成器损失"
   ]
  },
  {
   "cell_type": "code",
   "execution_count": 17,
   "metadata": {
    "ExecuteTime": {
     "end_time": "2019-11-11T08:02:47.843542Z",
     "start_time": "2019-11-11T08:02:47.765207Z"
    }
   },
   "outputs": [],
   "source": [
    "# 生成器损失量化其欺骗判别器的能力。直观来讲，如果生成器表现良好，判别器将会把伪造图片判断为真实图片（或 1）。这里我们将把判别器在生成图片上的判断结果与一个值全为 1 的数组进行对比。\n",
    "def generator_loss(fake_output):\n",
    "    return cross_entropy(tf.ones_like(fake_output), fake_output)"
   ]
  },
  {
   "cell_type": "code",
   "execution_count": 18,
   "metadata": {
    "ExecuteTime": {
     "end_time": "2019-11-11T08:02:47.926948Z",
     "start_time": "2019-11-11T08:02:47.848018Z"
    }
   },
   "outputs": [],
   "source": [
    "generator_optimizer = tf.keras.optimizers.Adam(1e-4)\n",
    "discriminator_optimizer = tf.keras.optimizers.Adam(1e-4)"
   ]
  },
  {
   "cell_type": "markdown",
   "metadata": {},
   "source": [
    "# 保存检查点"
   ]
  },
  {
   "cell_type": "code",
   "execution_count": 19,
   "metadata": {
    "ExecuteTime": {
     "end_time": "2019-11-11T08:02:48.011169Z",
     "start_time": "2019-11-11T08:02:47.931260Z"
    }
   },
   "outputs": [],
   "source": [
    "checkpoint_dir = './training_checkpoints'\n",
    "checkpoint_prefix = os.path.join(checkpoint_dir, \"ckpt\")\n",
    "checkpoint = tf.train.Checkpoint(generator_optimizer=generator_optimizer,\n",
    "                                 discriminator_optimizer=discriminator_optimizer,\n",
    "                                 generator=generator,\n",
    "                                 discriminator=discriminator)"
   ]
  },
  {
   "cell_type": "markdown",
   "metadata": {},
   "source": [
    "# 定义训练循环"
   ]
  },
  {
   "cell_type": "code",
   "execution_count": 20,
   "metadata": {
    "ExecuteTime": {
     "end_time": "2019-11-11T08:02:48.134607Z",
     "start_time": "2019-11-11T08:02:48.015546Z"
    }
   },
   "outputs": [],
   "source": [
    "EPOCHS = 50\n",
    "noise_dim = 100\n",
    "num_examples_to_generate = 16\n",
    "\n",
    "\n",
    "# 我们将重复使用该种子（因此在动画 GIF 中更容易可视化进度）\n",
    "seed = tf.random.normal([num_examples_to_generate, noise_dim])"
   ]
  },
  {
   "cell_type": "code",
   "execution_count": 21,
   "metadata": {
    "ExecuteTime": {
     "end_time": "2019-11-11T08:02:48.212151Z",
     "start_time": "2019-11-11T08:02:48.138978Z"
    }
   },
   "outputs": [],
   "source": [
    "# 注意 `tf.function` 的使用\n",
    "# 该注解使函数被“编译”\n",
    "@tf.function\n",
    "def train_step(images):\n",
    "    noise = tf.random.normal([BATCH_SIZE, noise_dim])\n",
    "\n",
    "    with tf.GradientTape() as gen_tape, tf.GradientTape() as disc_tape:\n",
    "      generated_images = generator(noise, training=True)\n",
    "\n",
    "      real_output = discriminator(images, training=True)\n",
    "      fake_output = discriminator(generated_images, training=True)\n",
    "\n",
    "      gen_loss = generator_loss(fake_output)\n",
    "      disc_loss = discriminator_loss(real_output, fake_output)\n",
    "\n",
    "    gradients_of_generator = gen_tape.gradient(gen_loss, generator.trainable_variables)\n",
    "    gradients_of_discriminator = disc_tape.gradient(disc_loss, discriminator.trainable_variables)\n",
    "\n",
    "    generator_optimizer.apply_gradients(zip(gradients_of_generator, generator.trainable_variables))\n",
    "    discriminator_optimizer.apply_gradients(zip(gradients_of_discriminator, discriminator.trainable_variables))"
   ]
  },
  {
   "cell_type": "code",
   "execution_count": 22,
   "metadata": {
    "ExecuteTime": {
     "end_time": "2019-11-11T08:02:48.318865Z",
     "start_time": "2019-11-11T08:02:48.216777Z"
    }
   },
   "outputs": [],
   "source": [
    "def train(dataset, epochs):\n",
    "  for epoch in range(epochs):\n",
    "    start = time.time()\n",
    "\n",
    "    for image_batch in dataset:\n",
    "      train_step(image_batch)\n",
    "\n",
    "    # 继续进行时为 GIF 生成图像\n",
    "    display.clear_output(wait=True)\n",
    "    generate_and_save_images(generator,\n",
    "                             epoch + 1,\n",
    "                             seed)\n",
    "\n",
    "    # 每 15 个 epoch 保存一次模型\n",
    "    if (epoch + 1) % 15 == 0:\n",
    "      checkpoint.save(file_prefix = checkpoint_prefix)\n",
    "\n",
    "    print ('Time for epoch {} is {} sec'.format(epoch + 1, time.time()-start))\n",
    "\n",
    "  # 最后一个 epoch 结束后生成图片\n",
    "  display.clear_output(wait=True)\n",
    "  generate_and_save_images(generator,\n",
    "                           epochs,\n",
    "                           seed)"
   ]
  },
  {
   "cell_type": "markdown",
   "metadata": {},
   "source": [
    "## 生成与保存图片"
   ]
  },
  {
   "cell_type": "code",
   "execution_count": 23,
   "metadata": {
    "ExecuteTime": {
     "end_time": "2019-11-11T08:02:48.436187Z",
     "start_time": "2019-11-11T08:02:48.326943Z"
    }
   },
   "outputs": [],
   "source": [
    "def generate_and_save_images(model, epoch, test_input):\n",
    "  # 注意 training` 设定为 False\n",
    "  # 因此，所有层都在推理模式下运行（batchnorm）。\n",
    "  predictions = model(test_input, training=False)\n",
    "\n",
    "  fig = plt.figure(figsize=(4,4))\n",
    "\n",
    "  for i in range(predictions.shape[0]):\n",
    "      plt.subplot(4, 4, i+1)\n",
    "      plt.imshow(predictions[i, :, :, 0] * 127.5 + 127.5, cmap='gray')\n",
    "      plt.axis('off')\n",
    "\n",
    "  plt.savefig('image_at_epoch_{:04d}.png'.format(epoch))\n",
    "  plt.show()"
   ]
  },
  {
   "cell_type": "markdown",
   "metadata": {},
   "source": [
    "# 训练模型"
   ]
  },
  {
   "cell_type": "code",
   "execution_count": 24,
   "metadata": {
    "ExecuteTime": {
     "end_time": "2019-11-11T09:25:20.376339Z",
     "start_time": "2019-11-11T08:02:48.440988Z"
    }
   },
   "outputs": [
    {
     "data": {
      "image/png": "[encoded data removed]",
      "text/plain": [
       "<Figure size 288x288 with 16 Axes>"
      ]
     },
     "metadata": {
      "needs_background": "light"
     },
     "output_type": "display_data"
    },
    {
     "name": "stdout",
     "output_type": "stream",
     "text": [
      "CPU times: user 7h 26min 55s, sys: 4min 37s, total: 7h 31min 32s\n",
      "Wall time: 1h 22min 31s\n"
     ]
    }
   ],
   "source": [
    "%%time\n",
    "train(train_dataset, EPOCHS)"
   ]
  },
  {
   "cell_type": "markdown",
   "metadata": {},
   "source": [
    "## 恢复最新的检查点"
   ]
  },
  {
   "cell_type": "code",
   "execution_count": 25,
   "metadata": {
    "ExecuteTime": {
     "end_time": "2019-11-11T09:25:20.424280Z",
     "start_time": "2019-11-11T09:25:20.377411Z"
    }
   },
   "outputs": [
    {
     "data": {
      "text/plain": [
       "<tensorflow.python.training.tracking.util.CheckpointLoadStatus at 0x7f2a1011ccf8>"
      ]
     },
     "execution_count": 25,
     "metadata": {},
     "output_type": "execute_result"
    }
   ],
   "source": [
    "checkpoint.restore(tf.train.latest_checkpoint(checkpoint_dir))"
   ]
  },
  {
   "cell_type": "markdown",
   "metadata": {},
   "source": [
    "# 创建 GIF"
   ]
  },
  {
   "cell_type": "code",
   "execution_count": 26,
   "metadata": {
    "ExecuteTime": {
     "end_time": "2019-11-11T09:25:20.487349Z",
     "start_time": "2019-11-11T09:25:20.425141Z"
    }
   },
   "outputs": [],
   "source": [
    "# 使用 epoch 数生成单张图片\n",
    "def display_image(epoch_no):\n",
    "  return PIL.Image.open('image_at_epoch_{:04d}.png'.format(epoch_no))"
   ]
  },
  {
   "cell_type": "code",
   "execution_count": 31,
   "metadata": {
    "ExecuteTime": {
     "end_time": "2019-11-11T10:21:20.881029Z",
     "start_time": "2019-11-11T10:21:20.866100Z"
    }
   },
   "outputs": [
    {
     "data": {
      "image/png": "[encoded data removed]",
      "text/plain": [
       "<PIL.PngImagePlugin.PngImageFile image mode=RGBA size=288x288 at 0x7F2A105520F0>"
      ]
     },
     "execution_count": 31,
     "metadata": {},
     "output_type": "execute_result"
    }
   ],
   "source": [
    "display_image(EPOCHS)"
   ]
  },
  {
   "cell_type": "code",
   "execution_count": 28,
   "metadata": {
    "ExecuteTime": {
     "end_time": "2019-11-11T09:25:20.781770Z",
     "start_time": "2019-11-11T09:25:20.612166Z"
    }
   },
   "outputs": [],
   "source": [
    "anim_file = 'dcgan.gif'\n",
    "\n",
    "with imageio.get_writer(anim_file, mode='I') as writer:\n",
    "  filenames = glob.glob('image*.png')\n",
    "  filenames = sorted(filenames)\n",
    "  last = -1\n",
    "  for i,filename in enumerate(filenames):\n",
    "    frame = 2*(i**0.5)\n",
    "    if round(frame) > round(last):\n",
    "      last = frame\n",
    "    else:\n",
    "      continue\n",
    "    image = imageio.imread(filename)\n",
    "    writer.append_data(image)\n",
    "  image = imageio.imread(filename)\n",
    "  writer.append_data(image)\n",
    "\n",
    "import IPython\n",
    "if IPython.version_info > (6,2,0,''):\n",
    "  display.Image(filename=anim_file)"
   ]
  },
  {
   "cell_type": "code",
   "execution_count": null,
   "metadata": {},
   "outputs": [],
   "source": []
  }
 ],
 "metadata": {
  "kernelspec": {
   "display_name": "py36tf2",
   "language": "python",
   "name": "py36tf2"
  },
  "language_info": {
   "codemirror_mode": {
    "name": "ipython",
    "version": 3
   },
   "file_extension": ".py",
   "mimetype": "text/x-python",
   "name": "python",
   "nbconvert_exporter": "python",
   "pygments_lexer": "ipython3",
   "version": "3.6.9"
  }
 },
 "nbformat": 4,
 "nbformat_minor": 2
}
